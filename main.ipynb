{
 "cells": [
  {
   "cell_type": "markdown",
   "id": "46ccf2bb",
   "metadata": {},
   "source": [
    "# Liabraries"
   ]
  },
  {
   "cell_type": "code",
   "execution_count": null,
   "id": "c6fe7aa6",
   "metadata": {},
   "outputs": [],
   "source": [
    "from ast                                import literal_eval\n",
    "from IPython.display                    import clear_output\n",
    "from bs4                                import BeautifulSoup as bs\n",
    "from selenium                           import webdriver\n",
    "from selenium.webdriver.common.by       import By\n",
    "from selenium.webdriver.chrome.options  import Options\n",
    "from selenium.webdriver.support.ui      import WebDriverWait\n",
    "from selenium.common.exceptions         import TimeoutException\n",
    "from webdriver_manager.chrome           import ChromeDriverManager\n",
    "from selenium.webdriver.support         import expected_conditions as EC\n",
    "import pandas as pd, requests as rq, time, os, sys, logging, re"
   ]
  },
  {
   "cell_type": "markdown",
   "id": "59fa95e0",
   "metadata": {},
   "source": [
    "# Functions"
   ]
  },
  {
   "cell_type": "code",
   "execution_count": null,
   "id": "d09e8c78",
   "metadata": {},
   "outputs": [],
   "source": [
    "def chrome_browser():\n",
    "    chrome_options = Options()\n",
    "    chrome_prefs = {}\n",
    "    chrome_prefs[\"profile.default_content_settings\"] = {\"images\": 2}\n",
    "    chrome_prefs[\"profile.managed_default_content_settings\"] = {\"images\": 2}\n",
    "    chrome_options.add_argument(\"start-maximized\")\n",
    "    chrome_options.add_experimental_option(\"prefs\", chrome_prefs)\n",
    "    driver = webdriver.Chrome(ChromeDriverManager().install(), options=chrome_options)\n",
    "    return driver\n",
    "\n",
    "def Insta_login(username,password):\n",
    "    user_name = driver.find_element(By.CSS_SELECTOR, '._ab32:nth-child(1) ._ac4d')\n",
    "    user_name.send_keys(username)\n",
    "    user_password = driver.find_element(By.CSS_SELECTOR, '._ab32+ ._ab32 ._ac4d')\n",
    "    user_password.send_keys(password)\n",
    "    login_button = driver.find_element(By.CSS_SELECTOR, '._acap')\n",
    "    login_button.submit()\n",
    "    print(f'Your are succefully Login using this {username} Username')\n",
    "    return"
   ]
  },
  {
   "cell_type": "code",
   "execution_count": null,
   "id": "ba0af503",
   "metadata": {},
   "outputs": [],
   "source": [
    "driver = chrome_browser()\n",
    "driver.get('https://www.instagram.com/')"
   ]
  },
  {
   "cell_type": "markdown",
   "id": "9362a2d0",
   "metadata": {},
   "source": [
    "# Insta Login"
   ]
  },
  {
   "cell_type": "code",
   "execution_count": null,
   "id": "2715dc98",
   "metadata": {},
   "outputs": [],
   "source": [
    "username = '******'\n",
    "password = '******'\n",
    "time.sleep(2)\n",
    "Insta_login(username,password)"
   ]
  },
  {
   "cell_type": "markdown",
   "id": "812597d7",
   "metadata": {},
   "source": [
    "# Username Lists"
   ]
  },
  {
   "cell_type": "code",
   "execution_count": null,
   "id": "25ac5344",
   "metadata": {},
   "outputs": [],
   "source": [
    "# Read the Excel file containing the Instagram usernames\n",
    "excel_file_path = r\"C:\\Users\\hp\\Music\\Insta_user_scraper\\following_users.xlsx\"\n",
    "df = pd.read_excel(excel_file_path)\n",
    "df.drop_duplicates(inplace = True)"
   ]
  },
  {
   "cell_type": "code",
   "execution_count": null,
   "id": "70aa5203",
   "metadata": {},
   "outputs": [],
   "source": [
    "new_df = pd.DataFrame(columns=['Username', 'First Name', 'Last Name', 'Following Count', 'Followers Count', 'Private', 'Bio', 'Email', 'Total_post', 'Profile URLs'])"
   ]
  },
  {
   "cell_type": "code",
   "execution_count": null,
   "id": "25011f8e",
   "metadata": {},
   "outputs": [],
   "source": [
    "# Regex pattern to match an email address in bio\n",
    "email_pattern = r'\\b[A-Za-z0-9._%+-]+@[A-Za-z0-9.-]+\\.[A-Z|a-z]{2,}\\b'\n",
    "\n",
    "# Create an empty list to store profile URLs\n",
    "profile_urls = []\n",
    "# Create an empty list to store DataFrames\n",
    "df_list = []\n",
    "\n",
    "# Get the total count of usernames\n",
    "total_count = len(df['following_username'].to_list())\n",
    "new_df['Error Links'] = ''\n",
    "\n",
    "for count, username in enumerate(df['following_username'].to_list(), start=1):\n",
    "    profile_url = f'https://www.instagram.com/{username}/'\n",
    "    driver.get(profile_url)\n",
    "\n",
    "    try:\n",
    "        # Wait until the element is present\n",
    "        element_present = EC.presence_of_element_located((By.CSS_SELECTOR, '.x1ez9qw7 img'))\n",
    "        profile_img = WebDriverWait(driver, 10).until(element_present)\n",
    "        # Get the src attribute of the image element\n",
    "        profile_img_url = profile_img.get_attribute('src')\n",
    "\n",
    "        # Wait until the element is visible\n",
    "        element_visible = EC.visibility_of_element_located((By.CSS_SELECTOR, '.x1ez9qw7'))\n",
    "        details_element = WebDriverWait(driver, 10).until(element_visible)\n",
    "\n",
    "        # Get the text value of the element\n",
    "        details_text = details_element.text\n",
    "\n",
    "        # Split the text into separate values\n",
    "        details_list = details_text.split('\\n')\n",
    "\n",
    "        # Extract full name and split into first name and last name\n",
    "        name_element = WebDriverWait(driver, 10).until(EC.visibility_of_element_located((By.CSS_SELECTOR, '._aad7')))\n",
    "        name_list = name_element.text\n",
    "        first_name = name_list.split()[0]\n",
    "        last_name = ' '.join(name_list.split()[1:])\n",
    "\n",
    "        # Extract the individual values\n",
    "        username = details_list[0]\n",
    "        edit_profile = details_list[1]\n",
    "        posts = details_list[3].split()[0]\n",
    "\n",
    "        followers = None\n",
    "        following = None\n",
    "\n",
    "        for detail in details_list:\n",
    "            if 'followers' in detail:\n",
    "                followers = detail.split()[0]\n",
    "            elif 'following' in detail:\n",
    "                following = detail.split()[0]\n",
    "\n",
    "            # Break the loop if both followers and following are found\n",
    "            if followers and following:\n",
    "                break\n",
    "\n",
    "        bio = ' '.join(details_list[6:])\n",
    "\n",
    "        # Extracting email from bio if present\n",
    "        email = re.search(email_pattern, bio)\n",
    "        if email:\n",
    "            email = email.group()\n",
    "\n",
    "        # Extracting profile URL\n",
    "        profile_url = driver.current_url\n",
    "\n",
    "        # Append the URL to the profile_urls list if it is not already present\n",
    "        if profile_url not in profile_urls:\n",
    "            profile_urls.append(profile_url)\n",
    "\n",
    "        # Append the details to the new DataFrame\n",
    "        new_row = {\n",
    "            'Username': username,\n",
    "            'First Name': first_name,\n",
    "            'Last Name': last_name,\n",
    "            'Following Count': following,\n",
    "            'Followers Count': followers,\n",
    "            'Post Count': posts,\n",
    "            'Private': False,\n",
    "            'User Bio': bio,\n",
    "            'Email': email,\n",
    "            'Profile URLs': profile_urls[0],\n",
    "            'Profile Pic Url': profile_img_url\n",
    "        }\n",
    "        df_list.append(pd.DataFrame(new_row, index=[0]))\n",
    "\n",
    "    except Exception as e:\n",
    "        # Save the error URL in the 'Error Link' column\n",
    "        new_df.loc[count - 1, 'Error Link'] = profile_url\n",
    "        print(f\"Error processing profile URL: {profile_url}\")\n",
    "        continue\n",
    "\n",
    "    # Refresh the count\n",
    "    print(f\"Processed {count}/{total_count} usernames.\", end='\\r')\n",
    "\n",
    "# Concatenate the DataFrame list into a single DataFrame\n",
    "new_df = pd.concat(df_list, ignore_index=True)\n",
    "\n",
    "# Print completion message\n",
    "print(\"Extraction completed.\")"
   ]
  },
  {
   "cell_type": "code",
   "execution_count": null,
   "id": "57f46254",
   "metadata": {},
   "outputs": [],
   "source": [
    "df_combined = pd.concat(df_list, ignore_index=True)"
   ]
  },
  {
   "cell_type": "code",
   "execution_count": null,
   "id": "334f27ce",
   "metadata": {},
   "outputs": [],
   "source": [
    "df_combined.to_excel('Insta_Users_Data.xlsx', index=False)"
   ]
  }
 ],
 "metadata": {
  "kernelspec": {
   "display_name": "Python 3 (ipykernel)",
   "language": "python",
   "name": "python3"
  },
  "language_info": {
   "codemirror_mode": {
    "name": "ipython",
    "version": 3
   },
   "file_extension": ".py",
   "mimetype": "text/x-python",
   "name": "python",
   "nbconvert_exporter": "python",
   "pygments_lexer": "ipython3",
   "version": "3.9.13"
  }
 },
 "nbformat": 4,
 "nbformat_minor": 5
}
